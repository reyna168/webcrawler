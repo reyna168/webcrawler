{
 "cells": [
  {
   "cell_type": "code",
   "execution_count": 2,
   "metadata": {},
   "outputs": [
    {
     "data": {
      "text/plain": [
       "<selenium.webdriver.remote.webelement.WebElement (session=\"bed47e7e18cdb0a1f8be878a76cbaf12\", element=\"0.3363890135890941-4\")>"
      ]
     },
     "execution_count": 2,
     "metadata": {},
     "output_type": "execute_result"
    }
   ],
   "source": [
    "from selenium import webdriver\n",
    "driver = webdriver.Chrome('chromedriver')\n",
    "driver.implicitly_wait(30)\n",
    "driver.get('http://mops.twse.com.tw/mops/web/t163sb04')\n",
    "driver.find_element_by_name('year').send_keys('108')\n",
    "driver.find_element_by_name('season').send_keys('3')\n",
    "driver.find_element_by_css_selector('#search_bar1 input[type=button]').click()\n",
    "driver.find_element_by_css_selector('h2')"
   ]
  },
  {
   "cell_type": "code",
   "execution_count": null,
   "metadata": {},
   "outputs": [],
   "source": []
  }
 ],
 "metadata": {
  "kernelspec": {
   "display_name": "Python 3",
   "language": "python",
   "name": "python3"
  },
  "language_info": {
   "codemirror_mode": {
    "name": "ipython",
    "version": 3
   },
   "file_extension": ".py",
   "mimetype": "text/x-python",
   "name": "python",
   "nbconvert_exporter": "python",
   "pygments_lexer": "ipython3",
   "version": "3.7.4"
  }
 },
 "nbformat": 4,
 "nbformat_minor": 2
}
