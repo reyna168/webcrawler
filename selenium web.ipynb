{
 "cells": [
  {
   "cell_type": "code",
   "execution_count": 16,
   "metadata": {},
   "outputs": [],
   "source": [
    "from selenium import webdriver\n",
    "\n",
    "driver = webdriver.Chrome('chromedriver')\n",
    "driver.get('https://www.google.com.tw')\n",
    "\n",
    "q =driver.find_element_by_name('q')\n",
    "q.send_keys('奧斯卡')\n",
    "\n"
   ]
  },
  {
   "cell_type": "code",
   "execution_count": 17,
   "metadata": {},
   "outputs": [],
   "source": [
    "from selenium.webdriver.common.keys import Keys\n",
    "q.send_keys(Keys.RETURN)\n"
   ]
  },
  {
   "cell_type": "code",
   "execution_count": 18,
   "metadata": {},
   "outputs": [],
   "source": [
    "from bs4 import BeautifulSoup\n",
    "soup = BeautifulSoup(driver.page_source, 'lxml')\n"
   ]
  },
  {
   "cell_type": "code",
   "execution_count": 22,
   "metadata": {},
   "outputs": [
    {
     "name": "stdout",
     "output_type": "stream",
     "text": [
      "奧斯卡金像獎- 維基百科，自由的百科全書 - Wikipedia\n",
      "【奧斯卡得獎名單】 《寄生上流》抱回最佳影片、導演四座大獎成 ...\n",
      "奧斯卡雷射數位影城\n",
      "2020 奧斯卡得獎名單出爐！《寄生上流》成最大贏家，《1917 ...\n",
      "【2020 奧斯卡】第92 屆奧斯卡完整名單，《寄生上流》成最大贏家 ...\n",
      "奧斯卡金像獎第92屆入圍暨得獎名單| 娛樂| 重點新聞| 中央社CNA\n",
      "影片\n",
      "奧斯卡金像獎2020年主要入圍名單| 娛樂| 重點新聞| 中央社CNA\n",
      "【奧斯卡2020】第92屆奧斯卡完整入圍名單，《寄生上流》入圍6項 ...\n",
      "奥斯卡金像奖_百度百科\n"
     ]
    }
   ],
   "source": [
    "for ele in soup.select('#rso h3'):\n",
    "    print(ele.text)"
   ]
  },
  {
   "cell_type": "code",
   "execution_count": 21,
   "metadata": {},
   "outputs": [],
   "source": [
    "driver.find_element_by_link_text('下一頁').click()"
   ]
  },
  {
   "cell_type": "code",
   "execution_count": 23,
   "metadata": {},
   "outputs": [
    {
     "name": "stdout",
     "output_type": "stream",
     "text": [
      "奧斯卡3D數位影城 - 開眼電影\n",
      "2020 年第92 屆奧斯卡金像獎完整得獎名單一次看！ - Popbee\n",
      "2020第92屆奧斯卡-第1頁| 奧斯卡金像獎| ETtoday新聞雲手機版 ...\n",
      "2020奧斯卡入圍名單出爐！《小丑》超狂入圍11項，《寄生上流》拼 ...\n",
      "一次看完16部奧斯卡金像獎得獎電影！《茱蒂》、《婚姻故事 ...\n",
      "總評奧斯卡：選擇《寄生上流族》與「小丑」，學院獎顛覆自身了嗎 ...\n",
      "奧斯卡最大贏家！《寄生上流》的窮酸味，如何飄進好萊塢的上流 ...\n",
      "2020奧斯卡完整得獎名單與預測檢討：《寄生上流》創下影史紀錄 ...\n",
      "週末選片/複習92屆奧斯卡得獎名單這些好片你一定要看！ | 匯流 ...\n",
      "奧斯卡2020 - MSN.com\n",
      "【奧斯卡2020】第92屆奧斯卡完整得獎名單公布！瓦昆《小丑》封 ...\n",
      "在《寄生上流》得奧斯卡獎之後南韓民眾怎麼看？ | DQ 地球圖輯 ...\n",
      "2020奧斯卡入圍明星的今昔大對比！小丑瓦昆菲尼克斯年輕時 ...\n",
      "奧斯卡- 映CG 媒體| InCG Media\n",
      "奧斯卡第92屆完整得獎名單！《小丑》僅奪兩獎跌破眾人眼鏡 ...\n",
      "第92 屆奧斯卡金像獎｜得獎感言與完整名單｜ BIOS monthly\n",
      "奧斯卡2020：韓國電影創歷史,《寄生蟲》奪最佳電影- BBC News ...\n",
      "奧斯卡／寄生上流改寫奧斯卡史將讓電影文化更豐富| 電影| 噓 ...\n",
      "奧斯卡坎城柏林威尼斯都可以Public Group | Facebook\n",
      "奧斯卡寵物水族(連鎖)量販\n",
      "奧斯卡2020》完整得獎名單！《寄生上流》改寫歷史奪最佳影片 ...\n",
      "美國觀眾不買帳2020奧斯卡收視率史上最慘- 新聞- Rti 中央廣播 ...\n",
      "第92屆奧斯卡7大看點總整！《寄生上流》打破影史紀錄、Kobe ...\n",
      "【2020奧斯卡】《寄生上流》得獎感言超時被熄燈湯姆漢克斯、莎莉 ...\n",
      "奧斯卡建設股份有限公司\n",
      "奧斯卡經濟- MBA智库百科\n",
      "92TH奧斯卡頒獎典禮- 台視官網\n",
      "「寄生上流」好威奪奧斯卡4大獎| 華視新聞20200210 - YouTube\n",
      "奧斯卡快訊  南韓「寄生上流」4大獎締造多項歷史歐巴馬賀「美國 ...\n",
      "個人意見》《寄生上流》的奧斯卡時刻- 自由電子報自由評論網\n"
     ]
    }
   ],
   "source": [
    "import time\n",
    "for p in range(3):\n",
    "    driver.find_element_by_link_text('下一頁').click()\n",
    "    soup = BeautifulSoup(driver.page_source, 'lxml')\n",
    "    for ele in soup.select('#rso h3'):\n",
    "        print(ele.text)\n",
    "    time.sleep(1)"
   ]
  },
  {
   "cell_type": "code",
   "execution_count": null,
   "metadata": {},
   "outputs": [],
   "source": []
  }
 ],
 "metadata": {
  "kernelspec": {
   "display_name": "Python 3",
   "language": "python",
   "name": "python3"
  },
  "language_info": {
   "codemirror_mode": {
    "name": "ipython",
    "version": 3
   },
   "file_extension": ".py",
   "mimetype": "text/x-python",
   "name": "python",
   "nbconvert_exporter": "python",
   "pygments_lexer": "ipython3",
   "version": "3.7.4"
  }
 },
 "nbformat": 4,
 "nbformat_minor": 2
}
